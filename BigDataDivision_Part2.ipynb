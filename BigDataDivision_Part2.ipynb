{
  "nbformat": 4,
  "nbformat_minor": 0,
  "metadata": {
    "colab": {
      "name": "BigDataDivision_Part2.ipynb",
      "provenance": [],
      "include_colab_link": true
    },
    "kernelspec": {
      "name": "python3",
      "display_name": "Python 3"
    }
  },
  "cells": [
    {
      "cell_type": "markdown",
      "metadata": {
        "id": "view-in-github",
        "colab_type": "text"
      },
      "source": [
        "<a href=\"https://colab.research.google.com/github/kphprateek/BigData/blob/main/BigDataDivision_Part2.ipynb\" target=\"_parent\"><img src=\"https://colab.research.google.com/assets/colab-badge.svg\" alt=\"Open In Colab\"/></a>"
      ]
    },
    {
      "cell_type": "code",
      "metadata": {
        "colab": {
          "base_uri": "https://localhost:8080/"
        },
        "id": "lvFParv77_aW",
        "outputId": "e93eb870-5710-4af2-d48e-756221829e7d"
      },
      "source": [
        "from google.colab import drive\n",
        "\n",
        "drive.mount('/content/gdrive')\n"
      ],
      "execution_count": 2,
      "outputs": [
        {
          "output_type": "stream",
          "text": [
            "Mounted at /content/gdrive\n"
          ],
          "name": "stdout"
        }
      ]
    },
    {
      "cell_type": "markdown",
      "metadata": {
        "id": "EltzMLshYGQG"
      },
      "source": [
        "**Dividing the Dataset into set of groups**"
      ]
    },
    {
      "cell_type": "code",
      "metadata": {
        "id": "hmybND6D8AmI"
      },
      "source": [
        "import pandas as pd\n",
        "data=pd.read_csv('gdrive/MyDrive/TwitterData.csv')"
      ],
      "execution_count": 3,
      "outputs": []
    },
    {
      "cell_type": "code",
      "metadata": {
        "colab": {
          "base_uri": "https://localhost:8080/",
          "height": 663
        },
        "id": "ske_Gqbz85PG",
        "outputId": "b1bfc886-a2c8-45c8-edf8-00ce6f171fdb"
      },
      "source": [
        "data.head(6)"
      ],
      "execution_count": 4,
      "outputs": [
        {
          "output_type": "execute_result",
          "data": {
            "text/html": [
              "<div>\n",
              "<style scoped>\n",
              "    .dataframe tbody tr th:only-of-type {\n",
              "        vertical-align: middle;\n",
              "    }\n",
              "\n",
              "    .dataframe tbody tr th {\n",
              "        vertical-align: top;\n",
              "    }\n",
              "\n",
              "    .dataframe thead th {\n",
              "        text-align: right;\n",
              "    }\n",
              "</style>\n",
              "<table border=\"1\" class=\"dataframe\">\n",
              "  <thead>\n",
              "    <tr style=\"text-align: right;\">\n",
              "      <th></th>\n",
              "      <th>tweet_id</th>\n",
              "      <th>tweet_created_at</th>\n",
              "      <th>tweet_created_on_holiday_bool</th>\n",
              "      <th>tweet_created_on_weekend_bool</th>\n",
              "      <th>tweet_created_at_noon_bool</th>\n",
              "      <th>tweet_created_at_eve_bool</th>\n",
              "      <th>user_id</th>\n",
              "      <th>user_screen_name</th>\n",
              "      <th>user_screen_name_length</th>\n",
              "      <th>user_no_of_tweets</th>\n",
              "      <th>user_no_of_followers</th>\n",
              "      <th>user_no_of_followings</th>\n",
              "      <th>user_account_age</th>\n",
              "      <th>user_no_of_favourites</th>\n",
              "      <th>user_average_tweets</th>\n",
              "      <th>user_average_favourites</th>\n",
              "      <th>user_account_location</th>\n",
              "      <th>tweet_text</th>\n",
              "      <th>tweet_text_length</th>\n",
              "      <th>tweet_text_optimal_length</th>\n",
              "      <th>tweet_text_no_of_hashtags</th>\n",
              "      <th>tweet_text_contains_hashtags</th>\n",
              "      <th>tweet_text_contains_url</th>\n",
              "      <th>tweet_text_no_of_user_mentions</th>\n",
              "      <th>tweet_text_contains_user_mentions</th>\n",
              "      <th>tweet_text_sentiment</th>\n",
              "      <th>tweet_text_contains_media</th>\n",
              "      <th>tweet_text_contains_number</th>\n",
              "      <th>tweet_text_contains_upper_words</th>\n",
              "      <th>tweet_text_contains_lower_words</th>\n",
              "      <th>tweet_text_contains_excl</th>\n",
              "      <th>tweet_text_contains_retweet_suggestion</th>\n",
              "      <th>retweeted</th>\n",
              "      <th>retweets</th>\n",
              "    </tr>\n",
              "  </thead>\n",
              "  <tbody>\n",
              "    <tr>\n",
              "      <th>0</th>\n",
              "      <td>~1357587318119407616~</td>\n",
              "      <td>Fri Feb 05 07:10:14 +0000 2021</td>\n",
              "      <td>0</td>\n",
              "      <td>0</td>\n",
              "      <td>0</td>\n",
              "      <td>0</td>\n",
              "      <td>~327890669~</td>\n",
              "      <td>mavirise</td>\n",
              "      <td>8</td>\n",
              "      <td>4355</td>\n",
              "      <td>49</td>\n",
              "      <td>57</td>\n",
              "      <td>3506</td>\n",
              "      <td>801</td>\n",
              "      <td>1.242156</td>\n",
              "      <td>0.228465</td>\n",
              "      <td>Shimla Urban, India</td>\n",
              "      <td>104 Govt should repeal anti farmer laws !! #Fa...</td>\n",
              "      <td>99</td>\n",
              "      <td>1</td>\n",
              "      <td>3</td>\n",
              "      <td>1</td>\n",
              "      <td>0</td>\n",
              "      <td>0</td>\n",
              "      <td>0</td>\n",
              "      <td>nue</td>\n",
              "      <td>0</td>\n",
              "      <td>1</td>\n",
              "      <td>0</td>\n",
              "      <td>1</td>\n",
              "      <td>1</td>\n",
              "      <td>0</td>\n",
              "      <td>False</td>\n",
              "      <td>0</td>\n",
              "    </tr>\n",
              "    <tr>\n",
              "      <th>1</th>\n",
              "      <td>~1357587287681323010~</td>\n",
              "      <td>Fri Feb 05 07:10:06 +0000 2021</td>\n",
              "      <td>0</td>\n",
              "      <td>0</td>\n",
              "      <td>0</td>\n",
              "      <td>0</td>\n",
              "      <td>~327890669~</td>\n",
              "      <td>mavirise</td>\n",
              "      <td>8</td>\n",
              "      <td>4355</td>\n",
              "      <td>49</td>\n",
              "      <td>57</td>\n",
              "      <td>3506</td>\n",
              "      <td>801</td>\n",
              "      <td>1.242156</td>\n",
              "      <td>0.228465</td>\n",
              "      <td>Shimla Urban, India</td>\n",
              "      <td>103 Govt should repeal anti farmer laws !! #Fa...</td>\n",
              "      <td>99</td>\n",
              "      <td>1</td>\n",
              "      <td>3</td>\n",
              "      <td>1</td>\n",
              "      <td>0</td>\n",
              "      <td>0</td>\n",
              "      <td>0</td>\n",
              "      <td>nue</td>\n",
              "      <td>0</td>\n",
              "      <td>1</td>\n",
              "      <td>0</td>\n",
              "      <td>1</td>\n",
              "      <td>1</td>\n",
              "      <td>0</td>\n",
              "      <td>False</td>\n",
              "      <td>0</td>\n",
              "    </tr>\n",
              "    <tr>\n",
              "      <th>2</th>\n",
              "      <td>~1357587268689485825~</td>\n",
              "      <td>Fri Feb 05 07:10:02 +0000 2021</td>\n",
              "      <td>0</td>\n",
              "      <td>0</td>\n",
              "      <td>0</td>\n",
              "      <td>0</td>\n",
              "      <td>~1216545386040418304~</td>\n",
              "      <td>aman89086818</td>\n",
              "      <td>12</td>\n",
              "      <td>48</td>\n",
              "      <td>0</td>\n",
              "      <td>7</td>\n",
              "      <td>389</td>\n",
              "      <td>39</td>\n",
              "      <td>0.123393</td>\n",
              "      <td>0.100257</td>\n",
              "      <td>NaN</td>\n",
              "      <td>Thank you internaltional celebrity who stand w...</td>\n",
              "      <td>75</td>\n",
              "      <td>1</td>\n",
              "      <td>1</td>\n",
              "      <td>1</td>\n",
              "      <td>0</td>\n",
              "      <td>0</td>\n",
              "      <td>0</td>\n",
              "      <td>nue</td>\n",
              "      <td>0</td>\n",
              "      <td>0</td>\n",
              "      <td>0</td>\n",
              "      <td>1</td>\n",
              "      <td>0</td>\n",
              "      <td>0</td>\n",
              "      <td>False</td>\n",
              "      <td>0</td>\n",
              "    </tr>\n",
              "    <tr>\n",
              "      <th>3</th>\n",
              "      <td>~1357587262469525507~</td>\n",
              "      <td>Fri Feb 05 07:10:00 +0000 2021</td>\n",
              "      <td>0</td>\n",
              "      <td>0</td>\n",
              "      <td>0</td>\n",
              "      <td>0</td>\n",
              "      <td>~1731144182~</td>\n",
              "      <td>jagbirsingh111</td>\n",
              "      <td>14</td>\n",
              "      <td>196</td>\n",
              "      <td>2</td>\n",
              "      <td>10</td>\n",
              "      <td>2710</td>\n",
              "      <td>97</td>\n",
              "      <td>0.072325</td>\n",
              "      <td>0.035793</td>\n",
              "      <td>NaN</td>\n",
              "      <td>@cnni They are just govt's puppet.that's why t...</td>\n",
              "      <td>129</td>\n",
              "      <td>0</td>\n",
              "      <td>2</td>\n",
              "      <td>1</td>\n",
              "      <td>0</td>\n",
              "      <td>1</td>\n",
              "      <td>1</td>\n",
              "      <td>neg</td>\n",
              "      <td>0</td>\n",
              "      <td>0</td>\n",
              "      <td>0</td>\n",
              "      <td>1</td>\n",
              "      <td>0</td>\n",
              "      <td>0</td>\n",
              "      <td>False</td>\n",
              "      <td>0</td>\n",
              "    </tr>\n",
              "    <tr>\n",
              "      <th>4</th>\n",
              "      <td>~1357587255699775488~</td>\n",
              "      <td>Fri Feb 05 07:09:59 +0000 2021</td>\n",
              "      <td>0</td>\n",
              "      <td>0</td>\n",
              "      <td>0</td>\n",
              "      <td>0</td>\n",
              "      <td>~327890669~</td>\n",
              "      <td>mavirise</td>\n",
              "      <td>8</td>\n",
              "      <td>4355</td>\n",
              "      <td>49</td>\n",
              "      <td>57</td>\n",
              "      <td>3506</td>\n",
              "      <td>801</td>\n",
              "      <td>1.242156</td>\n",
              "      <td>0.228465</td>\n",
              "      <td>Shimla Urban, India</td>\n",
              "      <td>102 Govt should repeal anti farmer laws !! #Fa...</td>\n",
              "      <td>99</td>\n",
              "      <td>1</td>\n",
              "      <td>3</td>\n",
              "      <td>1</td>\n",
              "      <td>0</td>\n",
              "      <td>0</td>\n",
              "      <td>0</td>\n",
              "      <td>nue</td>\n",
              "      <td>0</td>\n",
              "      <td>1</td>\n",
              "      <td>0</td>\n",
              "      <td>1</td>\n",
              "      <td>1</td>\n",
              "      <td>0</td>\n",
              "      <td>False</td>\n",
              "      <td>0</td>\n",
              "    </tr>\n",
              "    <tr>\n",
              "      <th>5</th>\n",
              "      <td>~1357587252793102339~</td>\n",
              "      <td>Fri Feb 05 07:09:58 +0000 2021</td>\n",
              "      <td>0</td>\n",
              "      <td>0</td>\n",
              "      <td>0</td>\n",
              "      <td>0</td>\n",
              "      <td>~1176438349915013122~</td>\n",
              "      <td>Shabas32906868</td>\n",
              "      <td>14</td>\n",
              "      <td>52</td>\n",
              "      <td>5</td>\n",
              "      <td>44</td>\n",
              "      <td>500</td>\n",
              "      <td>62</td>\n",
              "      <td>0.104000</td>\n",
              "      <td>0.124000</td>\n",
              "      <td>NaN</td>\n",
              "      <td>It is the BJP led Government who defame our co...</td>\n",
              "      <td>140</td>\n",
              "      <td>0</td>\n",
              "      <td>0</td>\n",
              "      <td>0</td>\n",
              "      <td>1</td>\n",
              "      <td>0</td>\n",
              "      <td>0</td>\n",
              "      <td>nue</td>\n",
              "      <td>0</td>\n",
              "      <td>1</td>\n",
              "      <td>1</td>\n",
              "      <td>1</td>\n",
              "      <td>0</td>\n",
              "      <td>0</td>\n",
              "      <td>False</td>\n",
              "      <td>0</td>\n",
              "    </tr>\n",
              "  </tbody>\n",
              "</table>\n",
              "</div>"
            ],
            "text/plain": [
              "                tweet_id                tweet_created_at  ...  retweeted  retweets\n",
              "0  ~1357587318119407616~  Fri Feb 05 07:10:14 +0000 2021  ...      False         0\n",
              "1  ~1357587287681323010~  Fri Feb 05 07:10:06 +0000 2021  ...      False         0\n",
              "2  ~1357587268689485825~  Fri Feb 05 07:10:02 +0000 2021  ...      False         0\n",
              "3  ~1357587262469525507~  Fri Feb 05 07:10:00 +0000 2021  ...      False         0\n",
              "4  ~1357587255699775488~  Fri Feb 05 07:09:59 +0000 2021  ...      False         0\n",
              "5  ~1357587252793102339~  Fri Feb 05 07:09:58 +0000 2021  ...      False         0\n",
              "\n",
              "[6 rows x 34 columns]"
            ]
          },
          "metadata": {
            "tags": []
          },
          "execution_count": 4
        }
      ]
    },
    {
      "cell_type": "code",
      "metadata": {
        "colab": {
          "base_uri": "https://localhost:8080/"
        },
        "id": "8Ah2HckVPbT6",
        "outputId": "677b1293-946f-4a6c-c8ff-bd3a8a63ecb9"
      },
      "source": [
        "#Shape of the data.\n",
        "data.shape"
      ],
      "execution_count": null,
      "outputs": [
        {
          "output_type": "execute_result",
          "data": {
            "text/plain": [
              "(25694, 34)"
            ]
          },
          "metadata": {
            "tags": []
          },
          "execution_count": 37
        }
      ]
    },
    {
      "cell_type": "code",
      "metadata": {
        "colab": {
          "base_uri": "https://localhost:8080/"
        },
        "id": "M7TYRi5B-Vho",
        "outputId": "50fcc4e0-b2fe-4d09-9740-aecd0112159d"
      },
      "source": [
        "#data type of every column.\n",
        "data.dtypes"
      ],
      "execution_count": null,
      "outputs": [
        {
          "output_type": "execute_result",
          "data": {
            "text/plain": [
              "tweet_id                                   object\n",
              "tweet_created_at                           object\n",
              "tweet_created_on_holiday_bool               int64\n",
              "tweet_created_on_weekend_bool               int64\n",
              "tweet_created_at_noon_bool                  int64\n",
              "tweet_created_at_eve_bool                   int64\n",
              "user_id                                    object\n",
              "user_screen_name                           object\n",
              "user_screen_name_length                     int64\n",
              "user_no_of_tweets                           int64\n",
              "user_no_of_followers                        int64\n",
              "user_no_of_followings                       int64\n",
              "user_account_age                            int64\n",
              "user_no_of_favourites                       int64\n",
              "user_average_tweets                       float64\n",
              "user_average_favourites                   float64\n",
              "user_account_location                      object\n",
              "tweet_text                                 object\n",
              "tweet_text_length                           int64\n",
              "tweet_text_optimal_length                   int64\n",
              "tweet_text_no_of_hashtags                   int64\n",
              "tweet_text_contains_hashtags                int64\n",
              "tweet_text_contains_url                     int64\n",
              "tweet_text_no_of_user_mentions              int64\n",
              "tweet_text_contains_user_mentions           int64\n",
              "tweet_text_sentiment                       object\n",
              "tweet_text_contains_media                   int64\n",
              "tweet_text_contains_number                  int64\n",
              "tweet_text_contains_upper_words             int64\n",
              "tweet_text_contains_lower_words             int64\n",
              "tweet_text_contains_excl                    int64\n",
              "tweet_text_contains_retweet_suggestion      int64\n",
              "retweeted                                    bool\n",
              "retweets                                    int64\n",
              "dtype: object"
            ]
          },
          "metadata": {
            "tags": []
          },
          "execution_count": 38
        }
      ]
    },
    {
      "cell_type": "code",
      "metadata": {
        "colab": {
          "base_uri": "https://localhost:8080/"
        },
        "id": "qVFxJTSJF777",
        "outputId": "05ab7ebf-8f12-4054-e2ff-acb5ffa6ab5f"
      },
      "source": [
        "#Trying to see where most of the data lies.\n",
        "data['retweets'].describe()"
      ],
      "execution_count": null,
      "outputs": [
        {
          "output_type": "execute_result",
          "data": {
            "text/plain": [
              "count    25694.000000\n",
              "mean         9.884954\n",
              "std        415.079240\n",
              "min          0.000000\n",
              "25%          0.000000\n",
              "50%          0.000000\n",
              "75%          1.000000\n",
              "max      62666.000000\n",
              "Name: retweets, dtype: float64"
            ]
          },
          "metadata": {
            "tags": []
          },
          "execution_count": 39
        }
      ]
    },
    {
      "cell_type": "code",
      "metadata": {
        "colab": {
          "base_uri": "https://localhost:8080/",
          "height": 296
        },
        "id": "yWllvu6yGtdF",
        "outputId": "716ccfa0-5bee-46e2-f0fd-3b0ac946cc5b"
      },
      "source": [
        "#trying to plot normal distribution and find out insights about the data.\n",
        "#finding out how the data is Divided?.\n",
        "import numpy as np\n",
        "import matplotlib.pyplot as plt\n",
        " \n",
        "\n",
        "\n",
        " \n",
        "#Creating a Function.\n",
        "def normal_dist(x , mean , sd):\n",
        "    prob_density = (np.pi*sd) * np.exp(-0.5*((x-mean)/sd)**2)\n",
        "    return prob_density\n",
        " \n",
        "#Calculate mean and Standard deviation.\n",
        "mean = np.mean(data['retweets'])\n",
        "sd = np.std(data['retweets'])\n",
        " \n",
        "#Apply function to the data.\n",
        "pdf = normal_dist(data['retweets'],mean,sd)\n",
        " \n",
        "#Plotting the Results\n",
        "plt.plot(data['retweets'],pdf , color = 'red')\n",
        "plt.xlabel('Data points')\n",
        "plt.ylabel('Probability Density')"
      ],
      "execution_count": null,
      "outputs": [
        {
          "output_type": "execute_result",
          "data": {
            "text/plain": [
              "Text(0, 0.5, 'Probability Density')"
            ]
          },
          "metadata": {
            "tags": []
          },
          "execution_count": 66
        },
        {
          "output_type": "display_data",
          "data": {
            "image/png": "[encoded data removed]",
            "text/plain": [
              "<Figure size 432x288 with 1 Axes>"
            ]
          },
          "metadata": {
            "tags": [],
            "needs_background": "light"
          }
        }
      ]
    },
    {
      "cell_type": "code",
      "metadata": {
        "colab": {
          "base_uri": "https://localhost:8080/",
          "height": 401
        },
        "id": "x3JuFubwGu-G",
        "outputId": "fa6dd1f0-ec1a-4e2a-aeb7-c7ee0b8e367c"
      },
      "source": [
        "#maximum numbers of points lies at 0.\n",
        "import matplotlib.pyplot as plt\n",
        "plt.boxplot(data['retweets'])"
      ],
      "execution_count": null,
      "outputs": [
        {
          "output_type": "execute_result",
          "data": {
            "text/plain": [
              "{'boxes': [<matplotlib.lines.Line2D at 0x7f25303957d0>],\n",
              " 'caps': [<matplotlib.lines.Line2D at 0x7f2530396890>,\n",
              "  <matplotlib.lines.Line2D at 0x7f2530396dd0>],\n",
              " 'fliers': [<matplotlib.lines.Line2D at 0x7f253039a8d0>],\n",
              " 'means': [],\n",
              " 'medians': [<matplotlib.lines.Line2D at 0x7f253039a390>],\n",
              " 'whiskers': [<matplotlib.lines.Line2D at 0x7f2530395dd0>,\n",
              "  <matplotlib.lines.Line2D at 0x7f2530396350>]}"
            ]
          },
          "metadata": {
            "tags": []
          },
          "execution_count": 41
        },
        {
          "output_type": "display_data",
          "data": {
            "image/png": "[encoded data removed]",
            "text/plain": [
              "<Figure size 432x288 with 1 Axes>"
            ]
          },
          "metadata": {
            "tags": [],
            "needs_background": "light"
          }
        }
      ]
    },
    {
      "cell_type": "code",
      "metadata": {
        "id": "0nVoIhhhOXJa"
      },
      "source": [
        "#finding unique values in each column\n",
        "n = data.nunique(axis=0)"
      ],
      "execution_count": null,
      "outputs": []
    },
    {
      "cell_type": "code",
      "metadata": {
        "colab": {
          "base_uri": "https://localhost:8080/"
        },
        "id": "ChhRaDRQQBdC",
        "outputId": "89db7b09-c797-4fb5-94b9-eae174ef225f"
      },
      "source": [
        "n"
      ],
      "execution_count": null,
      "outputs": [
        {
          "output_type": "execute_result",
          "data": {
            "text/plain": [
              "tweet_id                                  25666\n",
              "tweet_created_at                          21778\n",
              "tweet_created_on_holiday_bool                 1\n",
              "tweet_created_on_weekend_bool                 2\n",
              "tweet_created_at_noon_bool                    2\n",
              "tweet_created_at_eve_bool                     2\n",
              "user_id                                   13751\n",
              "user_screen_name                          13753\n",
              "user_screen_name_length                      12\n",
              "user_no_of_tweets                          5080\n",
              "user_no_of_followers                       2127\n",
              "user_no_of_followings                      1881\n",
              "user_account_age                           3745\n",
              "user_no_of_favourites                      5655\n",
              "user_average_tweets                       12834\n",
              "user_average_favourites                   12971\n",
              "user_account_location                      2982\n",
              "tweet_text                                25422\n",
              "tweet_text_length                           129\n",
              "tweet_text_optimal_length                     2\n",
              "tweet_text_no_of_hashtags                    11\n",
              "tweet_text_contains_hashtags                  2\n",
              "tweet_text_contains_url                       2\n",
              "tweet_text_no_of_user_mentions               12\n",
              "tweet_text_contains_user_mentions             2\n",
              "tweet_text_sentiment                          3\n",
              "tweet_text_contains_media                     2\n",
              "tweet_text_contains_number                    2\n",
              "tweet_text_contains_upper_words               2\n",
              "tweet_text_contains_lower_words               2\n",
              "tweet_text_contains_excl                      2\n",
              "tweet_text_contains_retweet_suggestion        2\n",
              "retweeted                                     1\n",
              "retweets                                    294\n",
              "dtype: int64"
            ]
          },
          "metadata": {
            "tags": []
          },
          "execution_count": 43
        }
      ]
    },
    {
      "cell_type": "code",
      "metadata": {
        "colab": {
          "base_uri": "https://localhost:8080/"
        },
        "id": "UMJtj09xQCZM",
        "outputId": "4e26c0e2-a551-47ff-fd79-b47f8110ccd2"
      },
      "source": [
        "#As we can see most of the retweets are done 0 then 1 and so on.\n",
        "#more than 50% of data itself lies in 0(i.e No retweets).\n",
        "s = pd.value_counts(data['retweets'])\n",
        "s\n"
      ],
      "execution_count": null,
      "outputs": [
        {
          "output_type": "execute_result",
          "data": {
            "text/plain": [
              "0      15827\n",
              "1       4677\n",
              "2       1683\n",
              "3        776\n",
              "4        498\n",
              "       ...  \n",
              "424        1\n",
              "216        1\n",
              "200        1\n",
              "184        1\n",
              "407        1\n",
              "Name: retweets, Length: 294, dtype: int64"
            ]
          },
          "metadata": {
            "tags": []
          },
          "execution_count": 44
        }
      ]
    },
    {
      "cell_type": "markdown",
      "metadata": {
        "id": "gqRpw9FLoNI1"
      },
      "source": [
        "**As most of the data is in 0 retweets,Hence I am dividing it into 3 parts and combining the values which are >=2**"
      ]
    },
    {
      "cell_type": "code",
      "metadata": {
        "colab": {
          "base_uri": "https://localhost:8080/",
          "height": 316
        },
        "id": "iMD74kxcQXu_",
        "outputId": "d777eba4-dd8f-41f7-ef31-67dc518879a9"
      },
      "source": [
        "#As we can see deciding the bins is a trivial task hence it is better to choose a method to find the best number of bins.\n",
        "plt.hist(s,bins=[0,1,2,5,50,100,150,200,250,300])"
      ],
      "execution_count": null,
      "outputs": [
        {
          "output_type": "execute_result",
          "data": {
            "text/plain": [
              "(array([  0., 150.,  83.,  47.,   3.,   3.,   1.,   1.,   1.]),\n",
              " array([  0,   1,   2,   5,  50, 100, 150, 200, 250, 300]),\n",
              " <a list of 9 Patch objects>)"
            ]
          },
          "metadata": {
            "tags": []
          },
          "execution_count": 45
        },
        {
          "output_type": "display_data",
          "data": {
            "image/png": "[encoded data removed]",
            "text/plain": [
              "<Figure size 432x288 with 1 Axes>"
            ]
          },
          "metadata": {
            "tags": [],
            "needs_background": "light"
          }
        }
      ]
    },
    {
      "cell_type": "code",
      "metadata": {
        "id": "H9V-m0lj57mz"
      },
      "source": [
        "#Here I am using freedman_diaconis method to find the optimal number of bins.\n",
        "import numpy as np\n",
        "from scipy import stats\n",
        "\n",
        "\n",
        "def freedman_diaconis(data, returnas=\"width\"):\n",
        "    \"\"\"\n",
        "    Use Freedman Diaconis rule to compute optimal histogram bin width. \n",
        "    ``returnas`` can be one of \"width\" or \"bins\", indicating whether\n",
        "    the bin width or number of bins should be returned respectively. \n",
        "\n",
        "\n",
        "    Parameters\n",
        "    ----------\n",
        "    data: np.ndarray\n",
        "        One-dimensional array.\n",
        "\n",
        "    returnas: {\"width\", \"bins\"}\n",
        "        If \"width\", return the estimated width for each histogram bin. \n",
        "        If \"bins\", return the number of bins suggested by rule.\n",
        "    \"\"\"\n",
        "    data = np.asarray(data, dtype=np.float_)\n",
        "    IQR  = stats.iqr(data, rng=(25, 75), scale=\"raw\", nan_policy=\"omit\")\n",
        "    N    = data.size\n",
        "    bw   = (2 * IQR) / np.power(N, 1/3)\n",
        "\n",
        "    if returnas==\"width\":\n",
        "        result = bw\n",
        "    else:\n",
        "        datmin, datmax = data.min(), data.max()\n",
        "        datrng = datmax - datmin\n",
        "        result = int((datrng / bw) + 1)\n",
        "    return(result)"
      ],
      "execution_count": null,
      "outputs": []
    },
    {
      "cell_type": "code",
      "metadata": {
        "colab": {
          "base_uri": "https://localhost:8080/"
        },
        "id": "sdVxBbSN6Lws",
        "outputId": "6e51facd-cd32-41ae-d2ac-3befdbd9da4a"
      },
      "source": [
        "freedman_diaconis(data=s, returnas=\"width\")"
      ],
      "execution_count": null,
      "outputs": [
        {
          "output_type": "execute_result",
          "data": {
            "text/plain": [
              "0.9023370853794829"
            ]
          },
          "metadata": {
            "tags": []
          },
          "execution_count": 47
        }
      ]
    },
    {
      "cell_type": "code",
      "metadata": {
        "id": "RcyaEvUiz0bc",
        "colab": {
          "base_uri": "https://localhost:8080/"
        },
        "outputId": "18832f7e-8259-4eaa-b675-a7f2a2a9f925"
      },
      "source": [
        "#There are more methods of finding Bins, we can use any one of them.\n",
        "freedman_diaconis(data=s, returnas=\"bins\")"
      ],
      "execution_count": null,
      "outputs": [
        {
          "output_type": "execute_result",
          "data": {
            "text/plain": [
              "17539"
            ]
          },
          "metadata": {
            "tags": []
          },
          "execution_count": 48
        }
      ]
    },
    {
      "cell_type": "code",
      "metadata": {
        "colab": {
          "base_uri": "https://localhost:8080/",
          "height": 585
        },
        "id": "w98pJ7ZN6a1o",
        "outputId": "d9dc73e6-df56-4760-f110-7ddbdb147e1d"
      },
      "source": [
        "#Now we can better visualise the dataset,How it is distributed.\n",
        "#As we can we with this histogram diagram the probabilty of data 50% and more tweets is in case of 0, and so on as shown by black lines.\n",
        "import matplotlib as mpl\n",
        "import matplotlib.pyplot as plt\n",
        "\n",
        "# Use freedman_diaconis function with returnas=\"bins\" to determine histogram bin width.\n",
        "NBR_BINS = freedman_diaconis(data=s, returnas=\"bins\")\n",
        "\n",
        "fig, ax = plt.subplots(nrows=1, ncols=1)\n",
        "fig.set_size_inches(11, 8)\n",
        "ax.hist(s, NBR_BINS, density=True, color=\"#FFFFFF\", edgecolor=\"black\", linewidth=1.1)\n",
        "ax.set_title(\"Bin Width Determination via Freedman Diaconis Rule\", fontsize=14, loc=\"left\", color=\"red\")\n",
        "ax.set_ylabel(\"Density\", fontsize=12, color=\"#000000\")\n",
        "ax.grid(False)\n",
        "ax.set_facecolor(None)\n",
        "plt.tight_layout()\n",
        "plt.show()"
      ],
      "execution_count": null,
      "outputs": [
        {
          "output_type": "display_data",
          "data": {
            "image/png": "[encoded data removed]",
            "text/plain": [
              "<Figure size 792x576 with 1 Axes>"
            ]
          },
          "metadata": {
            "tags": [],
            "needs_background": "light"
          }
        }
      ]
    },
    {
      "cell_type": "code",
      "metadata": {
        "id": "W3XiHdjDXaQj"
      },
      "source": [
        "#Conclusion So I decided to divide the dataset into 5 parts each of approx 5000 rows,As we can see below."
      ],
      "execution_count": null,
      "outputs": []
    },
    {
      "cell_type": "code",
      "metadata": {
        "id": "s3s6u7_66lAN"
      },
      "source": [
        "dataset1=data[data['retweets']==0]"
      ],
      "execution_count": null,
      "outputs": []
    },
    {
      "cell_type": "code",
      "metadata": {
        "colab": {
          "base_uri": "https://localhost:8080/"
        },
        "id": "05va4q3RWi0V",
        "outputId": "1c67df20-6e7b-4804-b00c-acea4a5f0388"
      },
      "source": [
        "dataset1.shape"
      ],
      "execution_count": null,
      "outputs": [
        {
          "output_type": "execute_result",
          "data": {
            "text/plain": [
              "(15827, 34)"
            ]
          },
          "metadata": {
            "tags": []
          },
          "execution_count": 52
        }
      ]
    },
    {
      "cell_type": "code",
      "metadata": {
        "id": "oja2GB4TWwrF"
      },
      "source": [
        "#divinding the dataset into 3 equal parts\n",
        "import numpy as np\n",
        "df_split = np.array_split(dataset1, 3)"
      ],
      "execution_count": null,
      "outputs": []
    },
    {
      "cell_type": "code",
      "metadata": {
        "id": "T__ibEJQWrzZ"
      },
      "source": [
        "dataset1=df_split[0]\n",
        "dataset2=df_split[1]\n",
        "dataset3=df_split[2]"
      ],
      "execution_count": null,
      "outputs": []
    },
    {
      "cell_type": "code",
      "metadata": {
        "colab": {
          "base_uri": "https://localhost:8080/",
          "height": 267
        },
        "id": "weTTyxDibYOQ",
        "outputId": "02804d90-a5af-45f9-ce15-f0a39dc6b19a"
      },
      "source": [
        "dataset1.head(2)"
      ],
      "execution_count": null,
      "outputs": [
        {
          "output_type": "execute_result",
          "data": {
            "text/html": [
              "<div>\n",
              "<style scoped>\n",
              "    .dataframe tbody tr th:only-of-type {\n",
              "        vertical-align: middle;\n",
              "    }\n",
              "\n",
              "    .dataframe tbody tr th {\n",
              "        vertical-align: top;\n",
              "    }\n",
              "\n",
              "    .dataframe thead th {\n",
              "        text-align: right;\n",
              "    }\n",
              "</style>\n",
              "<table border=\"1\" class=\"dataframe\">\n",
              "  <thead>\n",
              "    <tr style=\"text-align: right;\">\n",
              "      <th></th>\n",
              "      <th>tweet_id</th>\n",
              "      <th>tweet_created_at</th>\n",
              "      <th>tweet_created_on_holiday_bool</th>\n",
              "      <th>tweet_created_on_weekend_bool</th>\n",
              "      <th>tweet_created_at_noon_bool</th>\n",
              "      <th>tweet_created_at_eve_bool</th>\n",
              "      <th>user_id</th>\n",
              "      <th>user_screen_name</th>\n",
              "      <th>user_screen_name_length</th>\n",
              "      <th>user_no_of_tweets</th>\n",
              "      <th>user_no_of_followers</th>\n",
              "      <th>user_no_of_followings</th>\n",
              "      <th>user_account_age</th>\n",
              "      <th>user_no_of_favourites</th>\n",
              "      <th>user_average_tweets</th>\n",
              "      <th>user_average_favourites</th>\n",
              "      <th>user_account_location</th>\n",
              "      <th>tweet_text</th>\n",
              "      <th>tweet_text_length</th>\n",
              "      <th>tweet_text_optimal_length</th>\n",
              "      <th>tweet_text_no_of_hashtags</th>\n",
              "      <th>tweet_text_contains_hashtags</th>\n",
              "      <th>tweet_text_contains_url</th>\n",
              "      <th>tweet_text_no_of_user_mentions</th>\n",
              "      <th>tweet_text_contains_user_mentions</th>\n",
              "      <th>tweet_text_sentiment</th>\n",
              "      <th>tweet_text_contains_media</th>\n",
              "      <th>tweet_text_contains_number</th>\n",
              "      <th>tweet_text_contains_upper_words</th>\n",
              "      <th>tweet_text_contains_lower_words</th>\n",
              "      <th>tweet_text_contains_excl</th>\n",
              "      <th>tweet_text_contains_retweet_suggestion</th>\n",
              "      <th>retweeted</th>\n",
              "      <th>retweets</th>\n",
              "    </tr>\n",
              "  </thead>\n",
              "  <tbody>\n",
              "    <tr>\n",
              "      <th>0</th>\n",
              "      <td>~1357587318119407616~</td>\n",
              "      <td>Fri Feb 05 07:10:14 +0000 2021</td>\n",
              "      <td>0</td>\n",
              "      <td>0</td>\n",
              "      <td>0</td>\n",
              "      <td>0</td>\n",
              "      <td>~327890669~</td>\n",
              "      <td>mavirise</td>\n",
              "      <td>8</td>\n",
              "      <td>4355</td>\n",
              "      <td>49</td>\n",
              "      <td>57</td>\n",
              "      <td>3506</td>\n",
              "      <td>801</td>\n",
              "      <td>1.242156</td>\n",
              "      <td>0.228465</td>\n",
              "      <td>Shimla Urban, India</td>\n",
              "      <td>104 Govt should repeal anti farmer laws !! #Fa...</td>\n",
              "      <td>99</td>\n",
              "      <td>1</td>\n",
              "      <td>3</td>\n",
              "      <td>1</td>\n",
              "      <td>0</td>\n",
              "      <td>0</td>\n",
              "      <td>0</td>\n",
              "      <td>nue</td>\n",
              "      <td>0</td>\n",
              "      <td>1</td>\n",
              "      <td>0</td>\n",
              "      <td>1</td>\n",
              "      <td>1</td>\n",
              "      <td>0</td>\n",
              "      <td>False</td>\n",
              "      <td>0</td>\n",
              "    </tr>\n",
              "    <tr>\n",
              "      <th>1</th>\n",
              "      <td>~1357587287681323010~</td>\n",
              "      <td>Fri Feb 05 07:10:06 +0000 2021</td>\n",
              "      <td>0</td>\n",
              "      <td>0</td>\n",
              "      <td>0</td>\n",
              "      <td>0</td>\n",
              "      <td>~327890669~</td>\n",
              "      <td>mavirise</td>\n",
              "      <td>8</td>\n",
              "      <td>4355</td>\n",
              "      <td>49</td>\n",
              "      <td>57</td>\n",
              "      <td>3506</td>\n",
              "      <td>801</td>\n",
              "      <td>1.242156</td>\n",
              "      <td>0.228465</td>\n",
              "      <td>Shimla Urban, India</td>\n",
              "      <td>103 Govt should repeal anti farmer laws !! #Fa...</td>\n",
              "      <td>99</td>\n",
              "      <td>1</td>\n",
              "      <td>3</td>\n",
              "      <td>1</td>\n",
              "      <td>0</td>\n",
              "      <td>0</td>\n",
              "      <td>0</td>\n",
              "      <td>nue</td>\n",
              "      <td>0</td>\n",
              "      <td>1</td>\n",
              "      <td>0</td>\n",
              "      <td>1</td>\n",
              "      <td>1</td>\n",
              "      <td>0</td>\n",
              "      <td>False</td>\n",
              "      <td>0</td>\n",
              "    </tr>\n",
              "  </tbody>\n",
              "</table>\n",
              "</div>"
            ],
            "text/plain": [
              "                tweet_id                tweet_created_at  ...  retweeted  retweets\n",
              "0  ~1357587318119407616~  Fri Feb 05 07:10:14 +0000 2021  ...      False         0\n",
              "1  ~1357587287681323010~  Fri Feb 05 07:10:06 +0000 2021  ...      False         0\n",
              "\n",
              "[2 rows x 34 columns]"
            ]
          },
          "metadata": {
            "tags": []
          },
          "execution_count": 61
        }
      ]
    },
    {
      "cell_type": "code",
      "metadata": {
        "colab": {
          "base_uri": "https://localhost:8080/",
          "height": 199
        },
        "id": "Z5ZlYx8ubdWq",
        "outputId": "ee3d2bb1-e66a-4240-eba0-17196b03fc49"
      },
      "source": [
        "dataset2.head(2)"
      ],
      "execution_count": null,
      "outputs": [
        {
          "output_type": "execute_result",
          "data": {
            "text/html": [
              "<div>\n",
              "<style scoped>\n",
              "    .dataframe tbody tr th:only-of-type {\n",
              "        vertical-align: middle;\n",
              "    }\n",
              "\n",
              "    .dataframe tbody tr th {\n",
              "        vertical-align: top;\n",
              "    }\n",
              "\n",
              "    .dataframe thead th {\n",
              "        text-align: right;\n",
              "    }\n",
              "</style>\n",
              "<table border=\"1\" class=\"dataframe\">\n",
              "  <thead>\n",
              "    <tr style=\"text-align: right;\">\n",
              "      <th></th>\n",
              "      <th>tweet_id</th>\n",
              "      <th>tweet_created_at</th>\n",
              "      <th>tweet_created_on_holiday_bool</th>\n",
              "      <th>tweet_created_on_weekend_bool</th>\n",
              "      <th>tweet_created_at_noon_bool</th>\n",
              "      <th>tweet_created_at_eve_bool</th>\n",
              "      <th>user_id</th>\n",
              "      <th>user_screen_name</th>\n",
              "      <th>user_screen_name_length</th>\n",
              "      <th>user_no_of_tweets</th>\n",
              "      <th>user_no_of_followers</th>\n",
              "      <th>user_no_of_followings</th>\n",
              "      <th>user_account_age</th>\n",
              "      <th>user_no_of_favourites</th>\n",
              "      <th>user_average_tweets</th>\n",
              "      <th>user_average_favourites</th>\n",
              "      <th>user_account_location</th>\n",
              "      <th>tweet_text</th>\n",
              "      <th>tweet_text_length</th>\n",
              "      <th>tweet_text_optimal_length</th>\n",
              "      <th>tweet_text_no_of_hashtags</th>\n",
              "      <th>tweet_text_contains_hashtags</th>\n",
              "      <th>tweet_text_contains_url</th>\n",
              "      <th>tweet_text_no_of_user_mentions</th>\n",
              "      <th>tweet_text_contains_user_mentions</th>\n",
              "      <th>tweet_text_sentiment</th>\n",
              "      <th>tweet_text_contains_media</th>\n",
              "      <th>tweet_text_contains_number</th>\n",
              "      <th>tweet_text_contains_upper_words</th>\n",
              "      <th>tweet_text_contains_lower_words</th>\n",
              "      <th>tweet_text_contains_excl</th>\n",
              "      <th>tweet_text_contains_retweet_suggestion</th>\n",
              "      <th>retweeted</th>\n",
              "      <th>retweets</th>\n",
              "    </tr>\n",
              "  </thead>\n",
              "  <tbody>\n",
              "    <tr>\n",
              "      <th>7512</th>\n",
              "      <td>~1357275693986377731~</td>\n",
              "      <td>Thu Feb 04 10:31:57 +0000 2021</td>\n",
              "      <td>0</td>\n",
              "      <td>0</td>\n",
              "      <td>0</td>\n",
              "      <td>0</td>\n",
              "      <td>~1357180959595003904~</td>\n",
              "      <td>chidchidhi</td>\n",
              "      <td>10</td>\n",
              "      <td>36</td>\n",
              "      <td>2</td>\n",
              "      <td>147</td>\n",
              "      <td>1</td>\n",
              "      <td>13</td>\n",
              "      <td>36.000000</td>\n",
              "      <td>13.000000</td>\n",
              "      <td>NaN</td>\n",
              "      <td>Then #Modi is a supporter of farmers!\\n\\n#Indi...</td>\n",
              "      <td>133</td>\n",
              "      <td>0</td>\n",
              "      <td>5</td>\n",
              "      <td>1</td>\n",
              "      <td>1</td>\n",
              "      <td>0</td>\n",
              "      <td>0</td>\n",
              "      <td>nue</td>\n",
              "      <td>0</td>\n",
              "      <td>1</td>\n",
              "      <td>0</td>\n",
              "      <td>1</td>\n",
              "      <td>1</td>\n",
              "      <td>1</td>\n",
              "      <td>False</td>\n",
              "      <td>0</td>\n",
              "    </tr>\n",
              "    <tr>\n",
              "      <th>7513</th>\n",
              "      <td>~1357275687946657797~</td>\n",
              "      <td>Thu Feb 04 10:31:55 +0000 2021</td>\n",
              "      <td>0</td>\n",
              "      <td>0</td>\n",
              "      <td>0</td>\n",
              "      <td>0</td>\n",
              "      <td>~1311966096455421952~</td>\n",
              "      <td>Aman90215884</td>\n",
              "      <td>12</td>\n",
              "      <td>16</td>\n",
              "      <td>8</td>\n",
              "      <td>22</td>\n",
              "      <td>126</td>\n",
              "      <td>2</td>\n",
              "      <td>0.126984</td>\n",
              "      <td>0.015873</td>\n",
              "      <td>NaN</td>\n",
              "      <td>@EnoB Thank you #StandWithFarmers</td>\n",
              "      <td>33</td>\n",
              "      <td>0</td>\n",
              "      <td>1</td>\n",
              "      <td>1</td>\n",
              "      <td>0</td>\n",
              "      <td>1</td>\n",
              "      <td>1</td>\n",
              "      <td>nue</td>\n",
              "      <td>0</td>\n",
              "      <td>0</td>\n",
              "      <td>0</td>\n",
              "      <td>0</td>\n",
              "      <td>0</td>\n",
              "      <td>0</td>\n",
              "      <td>False</td>\n",
              "      <td>0</td>\n",
              "    </tr>\n",
              "  </tbody>\n",
              "</table>\n",
              "</div>"
            ],
            "text/plain": [
              "                   tweet_id  ... retweets\n",
              "7512  ~1357275693986377731~  ...        0\n",
              "7513  ~1357275687946657797~  ...        0\n",
              "\n",
              "[2 rows x 34 columns]"
            ]
          },
          "metadata": {
            "tags": []
          },
          "execution_count": 63
        }
      ]
    },
    {
      "cell_type": "code",
      "metadata": {
        "colab": {
          "base_uri": "https://localhost:8080/",
          "height": 199
        },
        "id": "lfhe3FcVbrNs",
        "outputId": "e0991228-6aa1-451e-c670-61c4d15b8648"
      },
      "source": [
        "dataset3.head(2)"
      ],
      "execution_count": null,
      "outputs": [
        {
          "output_type": "execute_result",
          "data": {
            "text/html": [
              "<div>\n",
              "<style scoped>\n",
              "    .dataframe tbody tr th:only-of-type {\n",
              "        vertical-align: middle;\n",
              "    }\n",
              "\n",
              "    .dataframe tbody tr th {\n",
              "        vertical-align: top;\n",
              "    }\n",
              "\n",
              "    .dataframe thead th {\n",
              "        text-align: right;\n",
              "    }\n",
              "</style>\n",
              "<table border=\"1\" class=\"dataframe\">\n",
              "  <thead>\n",
              "    <tr style=\"text-align: right;\">\n",
              "      <th></th>\n",
              "      <th>tweet_id</th>\n",
              "      <th>tweet_created_at</th>\n",
              "      <th>tweet_created_on_holiday_bool</th>\n",
              "      <th>tweet_created_on_weekend_bool</th>\n",
              "      <th>tweet_created_at_noon_bool</th>\n",
              "      <th>tweet_created_at_eve_bool</th>\n",
              "      <th>user_id</th>\n",
              "      <th>user_screen_name</th>\n",
              "      <th>user_screen_name_length</th>\n",
              "      <th>user_no_of_tweets</th>\n",
              "      <th>user_no_of_followers</th>\n",
              "      <th>user_no_of_followings</th>\n",
              "      <th>user_account_age</th>\n",
              "      <th>user_no_of_favourites</th>\n",
              "      <th>user_average_tweets</th>\n",
              "      <th>user_average_favourites</th>\n",
              "      <th>user_account_location</th>\n",
              "      <th>tweet_text</th>\n",
              "      <th>tweet_text_length</th>\n",
              "      <th>tweet_text_optimal_length</th>\n",
              "      <th>tweet_text_no_of_hashtags</th>\n",
              "      <th>tweet_text_contains_hashtags</th>\n",
              "      <th>tweet_text_contains_url</th>\n",
              "      <th>tweet_text_no_of_user_mentions</th>\n",
              "      <th>tweet_text_contains_user_mentions</th>\n",
              "      <th>tweet_text_sentiment</th>\n",
              "      <th>tweet_text_contains_media</th>\n",
              "      <th>tweet_text_contains_number</th>\n",
              "      <th>tweet_text_contains_upper_words</th>\n",
              "      <th>tweet_text_contains_lower_words</th>\n",
              "      <th>tweet_text_contains_excl</th>\n",
              "      <th>tweet_text_contains_retweet_suggestion</th>\n",
              "      <th>retweeted</th>\n",
              "      <th>retweets</th>\n",
              "    </tr>\n",
              "  </thead>\n",
              "  <tbody>\n",
              "    <tr>\n",
              "      <th>14931</th>\n",
              "      <td>~1357590047281668096~</td>\n",
              "      <td>Fri Feb 05 07:21:04 +0000 2021</td>\n",
              "      <td>0</td>\n",
              "      <td>0</td>\n",
              "      <td>0</td>\n",
              "      <td>0</td>\n",
              "      <td>~1170327988577038338~</td>\n",
              "      <td>JainulA29698974</td>\n",
              "      <td>15</td>\n",
              "      <td>3</td>\n",
              "      <td>1</td>\n",
              "      <td>21</td>\n",
              "      <td>517</td>\n",
              "      <td>9</td>\n",
              "      <td>0.005803</td>\n",
              "      <td>0.017408</td>\n",
              "      <td>NaN</td>\n",
              "      <td>#FarmersAreIndia stand with Indian farmer</td>\n",
              "      <td>41</td>\n",
              "      <td>0</td>\n",
              "      <td>1</td>\n",
              "      <td>1</td>\n",
              "      <td>0</td>\n",
              "      <td>0</td>\n",
              "      <td>0</td>\n",
              "      <td>nue</td>\n",
              "      <td>0</td>\n",
              "      <td>0</td>\n",
              "      <td>0</td>\n",
              "      <td>1</td>\n",
              "      <td>0</td>\n",
              "      <td>0</td>\n",
              "      <td>False</td>\n",
              "      <td>0</td>\n",
              "    </tr>\n",
              "    <tr>\n",
              "      <th>14936</th>\n",
              "      <td>~1357589956911243265~</td>\n",
              "      <td>Fri Feb 05 07:20:43 +0000 2021</td>\n",
              "      <td>0</td>\n",
              "      <td>0</td>\n",
              "      <td>0</td>\n",
              "      <td>0</td>\n",
              "      <td>~1106037024195141632~</td>\n",
              "      <td>SanjuRavish2</td>\n",
              "      <td>12</td>\n",
              "      <td>581</td>\n",
              "      <td>10</td>\n",
              "      <td>46</td>\n",
              "      <td>694</td>\n",
              "      <td>1352</td>\n",
              "      <td>0.837176</td>\n",
              "      <td>1.948127</td>\n",
              "      <td>NaN</td>\n",
              "      <td>@RajatSharmaLive Never trust godi media😂😂 ...T...</td>\n",
              "      <td>131</td>\n",
              "      <td>0</td>\n",
              "      <td>0</td>\n",
              "      <td>0</td>\n",
              "      <td>1</td>\n",
              "      <td>5</td>\n",
              "      <td>1</td>\n",
              "      <td>nue</td>\n",
              "      <td>0</td>\n",
              "      <td>1</td>\n",
              "      <td>0</td>\n",
              "      <td>1</td>\n",
              "      <td>0</td>\n",
              "      <td>0</td>\n",
              "      <td>False</td>\n",
              "      <td>0</td>\n",
              "    </tr>\n",
              "  </tbody>\n",
              "</table>\n",
              "</div>"
            ],
            "text/plain": [
              "                    tweet_id  ... retweets\n",
              "14931  ~1357590047281668096~  ...        0\n",
              "14936  ~1357589956911243265~  ...        0\n",
              "\n",
              "[2 rows x 34 columns]"
            ]
          },
          "metadata": {
            "tags": []
          },
          "execution_count": 64
        }
      ]
    },
    {
      "cell_type": "code",
      "metadata": {
        "colab": {
          "base_uri": "https://localhost:8080/"
        },
        "id": "_3Ny2Xu5ZKms",
        "outputId": "60a6cbe2-b5e0-43ba-fd81-b5e00c173d30"
      },
      "source": [
        "print(dataset1.shape)\n",
        "print(dataset2.shape)\n",
        "print(dataset3.shape)\n"
      ],
      "execution_count": null,
      "outputs": [
        {
          "output_type": "stream",
          "text": [
            "(5276, 34)\n",
            "(5276, 34)\n",
            "(5275, 34)\n"
          ],
          "name": "stdout"
        }
      ]
    },
    {
      "cell_type": "code",
      "metadata": {
        "id": "3tdwF111Wx4k"
      },
      "source": [
        "dataset4=data[data['retweets']==1]"
      ],
      "execution_count": null,
      "outputs": []
    },
    {
      "cell_type": "code",
      "metadata": {
        "colab": {
          "base_uri": "https://localhost:8080/",
          "height": 309
        },
        "id": "2yt0L6d6WyBF",
        "outputId": "08974197-505f-4d90-99fe-aca7ee26bbe6"
      },
      "source": [
        "dataset4.head(5)"
      ],
      "execution_count": null,
      "outputs": [
        {
          "output_type": "execute_result",
          "data": {
            "text/html": [
              "<div>\n",
              "<style scoped>\n",
              "    .dataframe tbody tr th:only-of-type {\n",
              "        vertical-align: middle;\n",
              "    }\n",
              "\n",
              "    .dataframe tbody tr th {\n",
              "        vertical-align: top;\n",
              "    }\n",
              "\n",
              "    .dataframe thead th {\n",
              "        text-align: right;\n",
              "    }\n",
              "</style>\n",
              "<table border=\"1\" class=\"dataframe\">\n",
              "  <thead>\n",
              "    <tr style=\"text-align: right;\">\n",
              "      <th></th>\n",
              "      <th>tweet_id</th>\n",
              "      <th>tweet_created_at</th>\n",
              "      <th>tweet_created_on_holiday_bool</th>\n",
              "      <th>tweet_created_on_weekend_bool</th>\n",
              "      <th>tweet_created_at_noon_bool</th>\n",
              "      <th>tweet_created_at_eve_bool</th>\n",
              "      <th>user_id</th>\n",
              "      <th>user_screen_name</th>\n",
              "      <th>user_screen_name_length</th>\n",
              "      <th>user_no_of_tweets</th>\n",
              "      <th>user_no_of_followers</th>\n",
              "      <th>user_no_of_followings</th>\n",
              "      <th>user_account_age</th>\n",
              "      <th>user_no_of_favourites</th>\n",
              "      <th>user_average_tweets</th>\n",
              "      <th>user_average_favourites</th>\n",
              "      <th>user_account_location</th>\n",
              "      <th>tweet_text</th>\n",
              "      <th>tweet_text_length</th>\n",
              "      <th>tweet_text_optimal_length</th>\n",
              "      <th>tweet_text_no_of_hashtags</th>\n",
              "      <th>tweet_text_contains_hashtags</th>\n",
              "      <th>tweet_text_contains_url</th>\n",
              "      <th>tweet_text_no_of_user_mentions</th>\n",
              "      <th>tweet_text_contains_user_mentions</th>\n",
              "      <th>tweet_text_sentiment</th>\n",
              "      <th>tweet_text_contains_media</th>\n",
              "      <th>tweet_text_contains_number</th>\n",
              "      <th>tweet_text_contains_upper_words</th>\n",
              "      <th>tweet_text_contains_lower_words</th>\n",
              "      <th>tweet_text_contains_excl</th>\n",
              "      <th>tweet_text_contains_retweet_suggestion</th>\n",
              "      <th>retweeted</th>\n",
              "      <th>retweets</th>\n",
              "    </tr>\n",
              "  </thead>\n",
              "  <tbody>\n",
              "    <tr>\n",
              "      <th>12</th>\n",
              "      <td>~1357587140624879616~</td>\n",
              "      <td>Fri Feb 05 07:09:31 +0000 2021</td>\n",
              "      <td>0</td>\n",
              "      <td>0</td>\n",
              "      <td>0</td>\n",
              "      <td>0</td>\n",
              "      <td>~801331985885134848~</td>\n",
              "      <td>Shankardev12</td>\n",
              "      <td>12</td>\n",
              "      <td>23902</td>\n",
              "      <td>278</td>\n",
              "      <td>654</td>\n",
              "      <td>1535</td>\n",
              "      <td>29000</td>\n",
              "      <td>15.571336</td>\n",
              "      <td>18.892508</td>\n",
              "      <td>NaN</td>\n",
              "      <td>@miakhalifa @aapsur I still #StandWithFarmers ...</td>\n",
              "      <td>140</td>\n",
              "      <td>0</td>\n",
              "      <td>1</td>\n",
              "      <td>1</td>\n",
              "      <td>1</td>\n",
              "      <td>2</td>\n",
              "      <td>1</td>\n",
              "      <td>neg</td>\n",
              "      <td>0</td>\n",
              "      <td>1</td>\n",
              "      <td>1</td>\n",
              "      <td>1</td>\n",
              "      <td>0</td>\n",
              "      <td>1</td>\n",
              "      <td>False</td>\n",
              "      <td>1</td>\n",
              "    </tr>\n",
              "    <tr>\n",
              "      <th>21</th>\n",
              "      <td>~1357586912437932038~</td>\n",
              "      <td>Fri Feb 05 07:08:37 +0000 2021</td>\n",
              "      <td>0</td>\n",
              "      <td>0</td>\n",
              "      <td>0</td>\n",
              "      <td>0</td>\n",
              "      <td>~327890669~</td>\n",
              "      <td>mavirise</td>\n",
              "      <td>8</td>\n",
              "      <td>4355</td>\n",
              "      <td>49</td>\n",
              "      <td>57</td>\n",
              "      <td>3506</td>\n",
              "      <td>801</td>\n",
              "      <td>1.242156</td>\n",
              "      <td>0.228465</td>\n",
              "      <td>Shimla Urban, India</td>\n",
              "      <td>97 Govt should repeal anti farmer laws !! #Far...</td>\n",
              "      <td>98</td>\n",
              "      <td>1</td>\n",
              "      <td>3</td>\n",
              "      <td>1</td>\n",
              "      <td>0</td>\n",
              "      <td>0</td>\n",
              "      <td>0</td>\n",
              "      <td>nue</td>\n",
              "      <td>0</td>\n",
              "      <td>1</td>\n",
              "      <td>0</td>\n",
              "      <td>1</td>\n",
              "      <td>1</td>\n",
              "      <td>0</td>\n",
              "      <td>False</td>\n",
              "      <td>1</td>\n",
              "    </tr>\n",
              "    <tr>\n",
              "      <th>35</th>\n",
              "      <td>~1357586402247139328~</td>\n",
              "      <td>Fri Feb 05 07:06:35 +0000 2021</td>\n",
              "      <td>0</td>\n",
              "      <td>0</td>\n",
              "      <td>0</td>\n",
              "      <td>0</td>\n",
              "      <td>~1333220921562124289~</td>\n",
              "      <td>SukhrajBandesha</td>\n",
              "      <td>15</td>\n",
              "      <td>131</td>\n",
              "      <td>21</td>\n",
              "      <td>29</td>\n",
              "      <td>67</td>\n",
              "      <td>601</td>\n",
              "      <td>1.955224</td>\n",
              "      <td>8.970149</td>\n",
              "      <td>Fatehgarh Churian, India</td>\n",
              "      <td>This network cannot be stopped\\n#FarmersAreInd...</td>\n",
              "      <td>130</td>\n",
              "      <td>0</td>\n",
              "      <td>4</td>\n",
              "      <td>1</td>\n",
              "      <td>1</td>\n",
              "      <td>0</td>\n",
              "      <td>0</td>\n",
              "      <td>nue</td>\n",
              "      <td>0</td>\n",
              "      <td>1</td>\n",
              "      <td>0</td>\n",
              "      <td>1</td>\n",
              "      <td>0</td>\n",
              "      <td>0</td>\n",
              "      <td>False</td>\n",
              "      <td>1</td>\n",
              "    </tr>\n",
              "    <tr>\n",
              "      <th>41</th>\n",
              "      <td>~1357586212534456327~</td>\n",
              "      <td>Fri Feb 05 07:05:50 +0000 2021</td>\n",
              "      <td>0</td>\n",
              "      <td>0</td>\n",
              "      <td>0</td>\n",
              "      <td>0</td>\n",
              "      <td>~728930059319312384~</td>\n",
              "      <td>Akshayjethi1</td>\n",
              "      <td>12</td>\n",
              "      <td>3780</td>\n",
              "      <td>40</td>\n",
              "      <td>40</td>\n",
              "      <td>1734</td>\n",
              "      <td>8210</td>\n",
              "      <td>2.179931</td>\n",
              "      <td>4.734717</td>\n",
              "      <td>vadodara, gujarat</td>\n",
              "      <td>#StandWithFarmers big b is big coward, he is o...</td>\n",
              "      <td>71</td>\n",
              "      <td>1</td>\n",
              "      <td>1</td>\n",
              "      <td>1</td>\n",
              "      <td>0</td>\n",
              "      <td>0</td>\n",
              "      <td>0</td>\n",
              "      <td>neg</td>\n",
              "      <td>0</td>\n",
              "      <td>0</td>\n",
              "      <td>0</td>\n",
              "      <td>1</td>\n",
              "      <td>0</td>\n",
              "      <td>0</td>\n",
              "      <td>False</td>\n",
              "      <td>1</td>\n",
              "    </tr>\n",
              "    <tr>\n",
              "      <th>42</th>\n",
              "      <td>~1357586187058376704~</td>\n",
              "      <td>Fri Feb 05 07:05:44 +0000 2021</td>\n",
              "      <td>0</td>\n",
              "      <td>0</td>\n",
              "      <td>0</td>\n",
              "      <td>0</td>\n",
              "      <td>~1282912420021837824~</td>\n",
              "      <td>Amanjot26389479</td>\n",
              "      <td>15</td>\n",
              "      <td>17</td>\n",
              "      <td>4</td>\n",
              "      <td>14</td>\n",
              "      <td>206</td>\n",
              "      <td>52</td>\n",
              "      <td>0.082524</td>\n",
              "      <td>0.252427</td>\n",
              "      <td>Punjab, India</td>\n",
              "      <td>Thankx #StandWithFarmers  #FarmerProtest https...</td>\n",
              "      <td>64</td>\n",
              "      <td>0</td>\n",
              "      <td>2</td>\n",
              "      <td>1</td>\n",
              "      <td>1</td>\n",
              "      <td>0</td>\n",
              "      <td>0</td>\n",
              "      <td>nue</td>\n",
              "      <td>0</td>\n",
              "      <td>1</td>\n",
              "      <td>0</td>\n",
              "      <td>0</td>\n",
              "      <td>0</td>\n",
              "      <td>0</td>\n",
              "      <td>False</td>\n",
              "      <td>1</td>\n",
              "    </tr>\n",
              "  </tbody>\n",
              "</table>\n",
              "</div>"
            ],
            "text/plain": [
              "                 tweet_id                tweet_created_at  ...  retweeted  retweets\n",
              "12  ~1357587140624879616~  Fri Feb 05 07:09:31 +0000 2021  ...      False         1\n",
              "21  ~1357586912437932038~  Fri Feb 05 07:08:37 +0000 2021  ...      False         1\n",
              "35  ~1357586402247139328~  Fri Feb 05 07:06:35 +0000 2021  ...      False         1\n",
              "41  ~1357586212534456327~  Fri Feb 05 07:05:50 +0000 2021  ...      False         1\n",
              "42  ~1357586187058376704~  Fri Feb 05 07:05:44 +0000 2021  ...      False         1\n",
              "\n",
              "[5 rows x 34 columns]"
            ]
          },
          "metadata": {
            "tags": []
          },
          "execution_count": 57
        }
      ]
    },
    {
      "cell_type": "code",
      "metadata": {
        "colab": {
          "base_uri": "https://localhost:8080/"
        },
        "id": "gD3LRD0yW-39",
        "outputId": "256105e4-32e6-4c31-91c2-798e3813e4b3"
      },
      "source": [
        "dataset4.shape"
      ],
      "execution_count": null,
      "outputs": [
        {
          "output_type": "execute_result",
          "data": {
            "text/plain": [
              "(4677, 34)"
            ]
          },
          "metadata": {
            "tags": []
          },
          "execution_count": 58
        }
      ]
    },
    {
      "cell_type": "code",
      "metadata": {
        "id": "qRgXvgLhW_AF"
      },
      "source": [
        "dataset5=data[data['retweets']>1]"
      ],
      "execution_count": null,
      "outputs": []
    },
    {
      "cell_type": "code",
      "metadata": {
        "colab": {
          "base_uri": "https://localhost:8080/"
        },
        "id": "iPFyZX7oW_NZ",
        "outputId": "3de1fd66-2385-40f1-f0f6-aaf2a46d98df"
      },
      "source": [
        "dataset5.shape"
      ],
      "execution_count": null,
      "outputs": [
        {
          "output_type": "execute_result",
          "data": {
            "text/plain": [
              "(5190, 34)"
            ]
          },
          "metadata": {
            "tags": []
          },
          "execution_count": 60
        }
      ]
    },
    {
      "cell_type": "code",
      "metadata": {
        "id": "HbE5lCyRXFsH",
        "colab": {
          "base_uri": "https://localhost:8080/",
          "height": 267
        },
        "outputId": "1672fd8c-ef30-4673-babb-fe96e26f7c2b"
      },
      "source": [
        "dataset5.head(2)"
      ],
      "execution_count": null,
      "outputs": [
        {
          "output_type": "execute_result",
          "data": {
            "text/html": [
              "<div>\n",
              "<style scoped>\n",
              "    .dataframe tbody tr th:only-of-type {\n",
              "        vertical-align: middle;\n",
              "    }\n",
              "\n",
              "    .dataframe tbody tr th {\n",
              "        vertical-align: top;\n",
              "    }\n",
              "\n",
              "    .dataframe thead th {\n",
              "        text-align: right;\n",
              "    }\n",
              "</style>\n",
              "<table border=\"1\" class=\"dataframe\">\n",
              "  <thead>\n",
              "    <tr style=\"text-align: right;\">\n",
              "      <th></th>\n",
              "      <th>tweet_id</th>\n",
              "      <th>tweet_created_at</th>\n",
              "      <th>tweet_created_on_holiday_bool</th>\n",
              "      <th>tweet_created_on_weekend_bool</th>\n",
              "      <th>tweet_created_at_noon_bool</th>\n",
              "      <th>tweet_created_at_eve_bool</th>\n",
              "      <th>user_id</th>\n",
              "      <th>user_screen_name</th>\n",
              "      <th>user_screen_name_length</th>\n",
              "      <th>user_no_of_tweets</th>\n",
              "      <th>user_no_of_followers</th>\n",
              "      <th>user_no_of_followings</th>\n",
              "      <th>user_account_age</th>\n",
              "      <th>user_no_of_favourites</th>\n",
              "      <th>user_average_tweets</th>\n",
              "      <th>user_average_favourites</th>\n",
              "      <th>user_account_location</th>\n",
              "      <th>tweet_text</th>\n",
              "      <th>tweet_text_length</th>\n",
              "      <th>tweet_text_optimal_length</th>\n",
              "      <th>tweet_text_no_of_hashtags</th>\n",
              "      <th>tweet_text_contains_hashtags</th>\n",
              "      <th>tweet_text_contains_url</th>\n",
              "      <th>tweet_text_no_of_user_mentions</th>\n",
              "      <th>tweet_text_contains_user_mentions</th>\n",
              "      <th>tweet_text_sentiment</th>\n",
              "      <th>tweet_text_contains_media</th>\n",
              "      <th>tweet_text_contains_number</th>\n",
              "      <th>tweet_text_contains_upper_words</th>\n",
              "      <th>tweet_text_contains_lower_words</th>\n",
              "      <th>tweet_text_contains_excl</th>\n",
              "      <th>tweet_text_contains_retweet_suggestion</th>\n",
              "      <th>retweeted</th>\n",
              "      <th>retweets</th>\n",
              "    </tr>\n",
              "  </thead>\n",
              "  <tbody>\n",
              "    <tr>\n",
              "      <th>51</th>\n",
              "      <td>~1357585935391678468~</td>\n",
              "      <td>Fri Feb 05 07:04:44 +0000 2021</td>\n",
              "      <td>0</td>\n",
              "      <td>0</td>\n",
              "      <td>0</td>\n",
              "      <td>0</td>\n",
              "      <td>~1269165526040772611~</td>\n",
              "      <td>JabbarShaloob</td>\n",
              "      <td>13</td>\n",
              "      <td>25</td>\n",
              "      <td>14</td>\n",
              "      <td>76</td>\n",
              "      <td>244</td>\n",
              "      <td>31</td>\n",
              "      <td>0.102459</td>\n",
              "      <td>0.127049</td>\n",
              "      <td>Kerala, India</td>\n",
              "      <td>@rihanna: Income tax department in India can't...</td>\n",
              "      <td>124</td>\n",
              "      <td>0</td>\n",
              "      <td>1</td>\n",
              "      <td>1</td>\n",
              "      <td>1</td>\n",
              "      <td>1</td>\n",
              "      <td>1</td>\n",
              "      <td>pos</td>\n",
              "      <td>0</td>\n",
              "      <td>1</td>\n",
              "      <td>0</td>\n",
              "      <td>1</td>\n",
              "      <td>0</td>\n",
              "      <td>1</td>\n",
              "      <td>False</td>\n",
              "      <td>2</td>\n",
              "    </tr>\n",
              "    <tr>\n",
              "      <th>83</th>\n",
              "      <td>~1357583746317303808~</td>\n",
              "      <td>Fri Feb 05 06:56:02 +0000 2021</td>\n",
              "      <td>0</td>\n",
              "      <td>0</td>\n",
              "      <td>0</td>\n",
              "      <td>0</td>\n",
              "      <td>~1273283436090802176~</td>\n",
              "      <td>Nargis_Ansari74</td>\n",
              "      <td>15</td>\n",
              "      <td>9182</td>\n",
              "      <td>66416</td>\n",
              "      <td>5155</td>\n",
              "      <td>232</td>\n",
              "      <td>17100</td>\n",
              "      <td>39.577586</td>\n",
              "      <td>73.706897</td>\n",
              "      <td>NaN</td>\n",
              "      <td>I am indian farmer I am not a terrorist .... \\...</td>\n",
              "      <td>64</td>\n",
              "      <td>0</td>\n",
              "      <td>1</td>\n",
              "      <td>1</td>\n",
              "      <td>0</td>\n",
              "      <td>0</td>\n",
              "      <td>0</td>\n",
              "      <td>nue</td>\n",
              "      <td>0</td>\n",
              "      <td>0</td>\n",
              "      <td>1</td>\n",
              "      <td>1</td>\n",
              "      <td>0</td>\n",
              "      <td>0</td>\n",
              "      <td>False</td>\n",
              "      <td>47</td>\n",
              "    </tr>\n",
              "  </tbody>\n",
              "</table>\n",
              "</div>"
            ],
            "text/plain": [
              "                 tweet_id                tweet_created_at  ...  retweeted  retweets\n",
              "51  ~1357585935391678468~  Fri Feb 05 07:04:44 +0000 2021  ...      False         2\n",
              "83  ~1357583746317303808~  Fri Feb 05 06:56:02 +0000 2021  ...      False        47\n",
              "\n",
              "[2 rows x 34 columns]"
            ]
          },
          "metadata": {
            "tags": []
          },
          "execution_count": 65
        }
      ]
    },
    {
      "cell_type": "code",
      "metadata": {
        "id": "JxJrVhN2b7G6"
      },
      "source": [
        ""
      ],
      "execution_count": null,
      "outputs": []
    },
    {
      "cell_type": "markdown",
      "metadata": {
        "id": "9c3DLLW-oGcM"
      },
      "source": [
        "#Second lab Doing Exploration: Distribution(continuous), Anomalies, various exploratory graphs."
      ]
    },
    {
      "cell_type": "markdown",
      "metadata": {
        "id": "Yp0dt0msJHLi"
      },
      "source": [
        "**#Finding which continuos variables are falling into outlier and removing it or replacing it by mean value.**"
      ]
    },
    {
      "cell_type": "code",
      "metadata": {
        "colab": {
          "base_uri": "https://localhost:8080/",
          "height": 351
        },
        "id": "dycjEUGTGeq9",
        "outputId": "927c1d6c-680c-4fe6-eb0f-49a59b33a26d"
      },
      "source": [
        "#Showing that the box is symmetrical at 12.\n",
        "import seaborn as sns\n",
        "sns.boxplot(data['user_screen_name_length'])"
      ],
      "execution_count": null,
      "outputs": [
        {
          "output_type": "stream",
          "text": [
            "/usr/local/lib/python3.7/dist-packages/seaborn/_decorators.py:43: FutureWarning: Pass the following variable as a keyword arg: x. From version 0.12, the only valid positional argument will be `data`, and passing other arguments without an explicit keyword will result in an error or misinterpretation.\n",
            "  FutureWarning\n"
          ],
          "name": "stderr"
        },
        {
          "output_type": "execute_result",
          "data": {
            "text/plain": [
              "<matplotlib.axes._subplots.AxesSubplot at 0x7faa2ab7c610>"
            ]
          },
          "metadata": {
            "tags": []
          },
          "execution_count": 6
        },
        {
          "output_type": "display_data",
          "data": {
            "image/png": "[encoded data removed]",
            "text/plain": [
              "<Figure size 432x288 with 1 Axes>"
            ]
          },
          "metadata": {
            "tags": [],
            "needs_background": "light"
          }
        }
      ]
    },
    {
      "cell_type": "code",
      "metadata": {
        "colab": {
          "base_uri": "https://localhost:8080/",
          "height": 297
        },
        "id": "9ZnpGoMFG_Y8",
        "outputId": "cc0c6dad-17b2-4025-9406-fbfc68dc1ec8"
      },
      "source": [
        "#outliers are present.\n",
        "sns.boxplot(x=data['user_no_of_tweets'])"
      ],
      "execution_count": null,
      "outputs": [
        {
          "output_type": "execute_result",
          "data": {
            "text/plain": [
              "<matplotlib.axes._subplots.AxesSubplot at 0x7faa2a1cc890>"
            ]
          },
          "metadata": {
            "tags": []
          },
          "execution_count": 17
        },
        {
          "output_type": "display_data",
          "data": {
            "image/png": "[encoded data removed]",
            "text/plain": [
              "<Figure size 432x288 with 1 Axes>"
            ]
          },
          "metadata": {
            "tags": [],
            "needs_background": "light"
          }
        }
      ]
    },
    {
      "cell_type": "code",
      "metadata": {
        "colab": {
          "base_uri": "https://localhost:8080/",
          "height": 297
        },
        "id": "gZpoHjsKHXTe",
        "outputId": "14b2cd5c-a31d-48b8-b5a0-a6ddd961277c"
      },
      "source": [
        "#outliers are present\n",
        "sns.boxplot(x=data['user_no_of_followers'])"
      ],
      "execution_count": null,
      "outputs": [
        {
          "output_type": "execute_result",
          "data": {
            "text/plain": [
              "<matplotlib.axes._subplots.AxesSubplot at 0x7faa2a11ee90>"
            ]
          },
          "metadata": {
            "tags": []
          },
          "execution_count": 18
        },
        {
          "output_type": "display_data",
          "data": {
            "image/png": "[encoded data removed]",
            "text/plain": [
              "<Figure size 432x288 with 1 Axes>"
            ]
          },
          "metadata": {
            "tags": [],
            "needs_background": "light"
          }
        }
      ]
    },
    {
      "cell_type": "code",
      "metadata": {
        "colab": {
          "base_uri": "https://localhost:8080/",
          "height": 297
        },
        "id": "Wj9N9RZ3HXdl",
        "outputId": "8bb2f355-abb1-4940-f1d6-2730fbdb1387"
      },
      "source": [
        "#outliers are present\n",
        "sns.boxplot(x=data['user_no_of_followings'])"
      ],
      "execution_count": null,
      "outputs": [
        {
          "output_type": "execute_result",
          "data": {
            "text/plain": [
              "<matplotlib.axes._subplots.AxesSubplot at 0x7faa2a0b0210>"
            ]
          },
          "metadata": {
            "tags": []
          },
          "execution_count": 19
        },
        {
          "output_type": "display_data",
          "data": {
            "image/png": "[encoded data removed]",
            "text/plain": [
              "<Figure size 432x288 with 1 Axes>"
            ]
          },
          "metadata": {
            "tags": [],
            "needs_background": "light"
          }
        }
      ]
    },
    {
      "cell_type": "code",
      "metadata": {
        "colab": {
          "base_uri": "https://localhost:8080/",
          "height": 297
        },
        "id": "m1Cknu2FHXnc",
        "outputId": "aaf0f8de-d36b-4712-91a5-44bf6ccb344b"
      },
      "source": [
        "#right skewed\n",
        "sns.boxplot(x=data['user_account_age'])"
      ],
      "execution_count": null,
      "outputs": [
        {
          "output_type": "execute_result",
          "data": {
            "text/plain": [
              "<matplotlib.axes._subplots.AxesSubplot at 0x7faa2a094090>"
            ]
          },
          "metadata": {
            "tags": []
          },
          "execution_count": 20
        },
        {
          "output_type": "display_data",
          "data": {
            "image/png": "[encoded data removed]",
            "text/plain": [
              "<Figure size 432x288 with 1 Axes>"
            ]
          },
          "metadata": {
            "tags": [],
            "needs_background": "light"
          }
        }
      ]
    },
    {
      "cell_type": "code",
      "metadata": {
        "colab": {
          "base_uri": "https://localhost:8080/",
          "height": 297
        },
        "id": "b3eNDzrVHXxr",
        "outputId": "ba50df95-aeb6-42fa-cdfa-f3669fcee4a9"
      },
      "source": [
        "#outliers are present\n",
        "sns.boxplot(x=data['user_no_of_favourites'])"
      ],
      "execution_count": null,
      "outputs": [
        {
          "output_type": "execute_result",
          "data": {
            "text/plain": [
              "<matplotlib.axes._subplots.AxesSubplot at 0x7faa29ff0f10>"
            ]
          },
          "metadata": {
            "tags": []
          },
          "execution_count": 21
        },
        {
          "output_type": "display_data",
          "data": {
            "image/png": "[encoded data removed]",
            "text/plain": [
              "<Figure size 432x288 with 1 Axes>"
            ]
          },
          "metadata": {
            "tags": [],
            "needs_background": "light"
          }
        }
      ]
    },
    {
      "cell_type": "code",
      "metadata": {
        "colab": {
          "base_uri": "https://localhost:8080/",
          "height": 297
        },
        "id": "fB6Wd0-kHX7I",
        "outputId": "0b3dfc0e-148e-418a-a21f-f88cb30b9a30"
      },
      "source": [
        "#outliers are present.\n",
        "sns.boxplot(x=data['user_average_tweets'])"
      ],
      "execution_count": null,
      "outputs": [
        {
          "output_type": "execute_result",
          "data": {
            "text/plain": [
              "<matplotlib.axes._subplots.AxesSubplot at 0x7faa29f64110>"
            ]
          },
          "metadata": {
            "tags": []
          },
          "execution_count": 22
        },
        {
          "output_type": "display_data",
          "data": {
            "image/png": "[encoded data removed]",
            "text/plain": [
              "<Figure size 432x288 with 1 Axes>"
            ]
          },
          "metadata": {
            "tags": [],
            "needs_background": "light"
          }
        }
      ]
    },
    {
      "cell_type": "code",
      "metadata": {
        "colab": {
          "base_uri": "https://localhost:8080/",
          "height": 297
        },
        "id": "k9iXcC5DHYE4",
        "outputId": "1db8470c-7085-4123-df05-cf779c9f952e"
      },
      "source": [
        "sns.boxplot(x=data['user_average_favourites'])"
      ],
      "execution_count": null,
      "outputs": [
        {
          "output_type": "execute_result",
          "data": {
            "text/plain": [
              "<matplotlib.axes._subplots.AxesSubplot at 0x7faa29f59390>"
            ]
          },
          "metadata": {
            "tags": []
          },
          "execution_count": 23
        },
        {
          "output_type": "display_data",
          "data": {
            "image/png": "[encoded data removed]",
            "text/plain": [
              "<Figure size 432x288 with 1 Axes>"
            ]
          },
          "metadata": {
            "tags": [],
            "needs_background": "light"
          }
        }
      ]
    },
    {
      "cell_type": "code",
      "metadata": {
        "colab": {
          "base_uri": "https://localhost:8080/",
          "height": 297
        },
        "id": "gsAIPkfkHYQm",
        "outputId": "36ffb6f9-97fd-4b40-9790-9d2842d9c12d"
      },
      "source": [
        "#left skewed\n",
        "sns.boxplot(x=data['tweet_text_length'])"
      ],
      "execution_count": null,
      "outputs": [
        {
          "output_type": "execute_result",
          "data": {
            "text/plain": [
              "<matplotlib.axes._subplots.AxesSubplot at 0x7faa29eaf190>"
            ]
          },
          "metadata": {
            "tags": []
          },
          "execution_count": 24
        },
        {
          "output_type": "display_data",
          "data": {
            "image/png": "[encoded data removed]",
            "text/plain": [
              "<Figure size 432x288 with 1 Axes>"
            ]
          },
          "metadata": {
            "tags": [],
            "needs_background": "light"
          }
        }
      ]
    },
    {
      "cell_type": "code",
      "metadata": {
        "colab": {
          "base_uri": "https://localhost:8080/",
          "height": 296
        },
        "id": "b-RS-nZmH4BI",
        "outputId": "ca828803-fd7c-4263-8ee5-d0535ce66dd0"
      },
      "source": [
        "sns.boxplot(x=data['retweets'])"
      ],
      "execution_count": null,
      "outputs": [
        {
          "output_type": "execute_result",
          "data": {
            "text/plain": [
              "<matplotlib.axes._subplots.AxesSubplot at 0x7faa2a255450>"
            ]
          },
          "metadata": {
            "tags": []
          },
          "execution_count": 16
        },
        {
          "output_type": "display_data",
          "data": {
            "image/png": "[encoded data removed]",
            "text/plain": [
              "<Figure size 432x288 with 1 Axes>"
            ]
          },
          "metadata": {
            "tags": [],
            "needs_background": "light"
          }
        }
      ]
    },
    {
      "cell_type": "code",
      "metadata": {
        "id": "vLgZ4YjRMqc6"
      },
      "source": [
        "df = data.filter(['user_screen_name_length','user_no_of_tweets','user_no_of_followers','user_no_of_followings','user_no_of_favourites','tweet_text_length','user_account_age','user_average_tweets'], axis=1)"
      ],
      "execution_count": 46,
      "outputs": []
    },
    {
      "cell_type": "code",
      "metadata": {
        "colab": {
          "base_uri": "https://localhost:8080/"
        },
        "id": "i9NrlfH0Q6rH",
        "outputId": "6ed422a9-55c7-43e3-c3f0-ad131ff7906a"
      },
      "source": [
        "df.shape"
      ],
      "execution_count": 47,
      "outputs": [
        {
          "output_type": "execute_result",
          "data": {
            "text/plain": [
              "(25694, 8)"
            ]
          },
          "metadata": {
            "tags": []
          },
          "execution_count": 47
        }
      ]
    },
    {
      "cell_type": "markdown",
      "metadata": {
        "id": "wLVWoln0l9uk"
      },
      "source": [
        "#Replacing the values which are below 0.01 and above 0.99 with its extreme values."
      ]
    },
    {
      "cell_type": "code",
      "metadata": {
        "colab": {
          "base_uri": "https://localhost:8080/"
        },
        "id": "cyRYaARQH4UQ",
        "outputId": "cfe99dda-3e5e-4f40-e630-3a3a11f86fab"
      },
      "source": [
        "def cap_data(df):\n",
        "    for col in df.columns:\n",
        "        print(\"capping the \",col)\n",
        "        if (((df[col].dtype)=='float64') | ((df[col].dtype)=='int64')):\n",
        "            percentiles = df[col].quantile([0.01,0.99]).values\n",
        "            df[col].iloc[df[col] <= percentiles[0]] = percentiles[0]\n",
        "            df[col].iloc[df[col] >= percentiles[1]] = percentiles[1]\n",
        "        else:\n",
        "            df[col]=df[col]\n",
        "    return df\n",
        "\n",
        "final_df=cap_data(df)"
      ],
      "execution_count": 49,
      "outputs": [
        {
          "output_type": "stream",
          "text": [
            "capping the  user_screen_name_length\n",
            "capping the  user_no_of_tweets\n",
            "capping the  user_no_of_followers\n",
            "capping the  user_no_of_followings\n",
            "capping the  user_no_of_favourites\n",
            "capping the  tweet_text_length\n",
            "capping the  user_account_age\n",
            "capping the  user_average_tweets\n"
          ],
          "name": "stdout"
        }
      ]
    },
    {
      "cell_type": "code",
      "metadata": {
        "colab": {
          "base_uri": "https://localhost:8080/"
        },
        "id": "qmUzIBiCH4YU",
        "outputId": "bdc15770-23a4-4fc4-a366-a681c5b7a329"
      },
      "source": [
        "print(final_df.head(6))"
      ],
      "execution_count": 50,
      "outputs": [
        {
          "output_type": "stream",
          "text": [
            "   user_screen_name_length  ...  user_average_tweets\n",
            "0                      8.0  ...             1.242156\n",
            "1                      8.0  ...             1.242156\n",
            "2                     12.0  ...             0.123393\n",
            "3                     14.0  ...             0.072325\n",
            "4                      8.0  ...             1.242156\n",
            "5                     14.0  ...             0.104000\n",
            "\n",
            "[6 rows x 8 columns]\n"
          ],
          "name": "stdout"
        }
      ]
    },
    {
      "cell_type": "code",
      "metadata": {
        "colab": {
          "base_uri": "https://localhost:8080/",
          "height": 439
        },
        "id": "r3e07P0EH4k5",
        "outputId": "3bd5b119-3a0e-4a90-844d-632417aef94a"
      },
      "source": [
        "final_df"
      ],
      "execution_count": 51,
      "outputs": [
        {
          "output_type": "execute_result",
          "data": {
            "text/html": [
              "<div>\n",
              "<style scoped>\n",
              "    .dataframe tbody tr th:only-of-type {\n",
              "        vertical-align: middle;\n",
              "    }\n",
              "\n",
              "    .dataframe tbody tr th {\n",
              "        vertical-align: top;\n",
              "    }\n",
              "\n",
              "    .dataframe thead th {\n",
              "        text-align: right;\n",
              "    }\n",
              "</style>\n",
              "<table border=\"1\" class=\"dataframe\">\n",
              "  <thead>\n",
              "    <tr style=\"text-align: right;\">\n",
              "      <th></th>\n",
              "      <th>user_screen_name_length</th>\n",
              "      <th>user_no_of_tweets</th>\n",
              "      <th>user_no_of_followers</th>\n",
              "      <th>user_no_of_followings</th>\n",
              "      <th>user_no_of_favourites</th>\n",
              "      <th>tweet_text_length</th>\n",
              "      <th>user_account_age</th>\n",
              "      <th>user_average_tweets</th>\n",
              "    </tr>\n",
              "  </thead>\n",
              "  <tbody>\n",
              "    <tr>\n",
              "      <th>0</th>\n",
              "      <td>8.0</td>\n",
              "      <td>4355.0</td>\n",
              "      <td>49.0</td>\n",
              "      <td>57.0</td>\n",
              "      <td>801.0</td>\n",
              "      <td>99.0</td>\n",
              "      <td>3506.0</td>\n",
              "      <td>1.242156</td>\n",
              "    </tr>\n",
              "    <tr>\n",
              "      <th>1</th>\n",
              "      <td>8.0</td>\n",
              "      <td>4355.0</td>\n",
              "      <td>49.0</td>\n",
              "      <td>57.0</td>\n",
              "      <td>801.0</td>\n",
              "      <td>99.0</td>\n",
              "      <td>3506.0</td>\n",
              "      <td>1.242156</td>\n",
              "    </tr>\n",
              "    <tr>\n",
              "      <th>2</th>\n",
              "      <td>12.0</td>\n",
              "      <td>48.0</td>\n",
              "      <td>0.0</td>\n",
              "      <td>7.0</td>\n",
              "      <td>39.0</td>\n",
              "      <td>75.0</td>\n",
              "      <td>389.0</td>\n",
              "      <td>0.123393</td>\n",
              "    </tr>\n",
              "    <tr>\n",
              "      <th>3</th>\n",
              "      <td>14.0</td>\n",
              "      <td>196.0</td>\n",
              "      <td>2.0</td>\n",
              "      <td>10.0</td>\n",
              "      <td>97.0</td>\n",
              "      <td>129.0</td>\n",
              "      <td>2710.0</td>\n",
              "      <td>0.072325</td>\n",
              "    </tr>\n",
              "    <tr>\n",
              "      <th>4</th>\n",
              "      <td>8.0</td>\n",
              "      <td>4355.0</td>\n",
              "      <td>49.0</td>\n",
              "      <td>57.0</td>\n",
              "      <td>801.0</td>\n",
              "      <td>99.0</td>\n",
              "      <td>3506.0</td>\n",
              "      <td>1.242156</td>\n",
              "    </tr>\n",
              "    <tr>\n",
              "      <th>...</th>\n",
              "      <td>...</td>\n",
              "      <td>...</td>\n",
              "      <td>...</td>\n",
              "      <td>...</td>\n",
              "      <td>...</td>\n",
              "      <td>...</td>\n",
              "      <td>...</td>\n",
              "      <td>...</td>\n",
              "    </tr>\n",
              "    <tr>\n",
              "      <th>25689</th>\n",
              "      <td>10.0</td>\n",
              "      <td>166.0</td>\n",
              "      <td>8.0</td>\n",
              "      <td>18.0</td>\n",
              "      <td>100.0</td>\n",
              "      <td>133.0</td>\n",
              "      <td>60.0</td>\n",
              "      <td>2.766667</td>\n",
              "    </tr>\n",
              "    <tr>\n",
              "      <th>25690</th>\n",
              "      <td>13.0</td>\n",
              "      <td>1990.0</td>\n",
              "      <td>335.0</td>\n",
              "      <td>402.0</td>\n",
              "      <td>2722.0</td>\n",
              "      <td>140.0</td>\n",
              "      <td>2126.0</td>\n",
              "      <td>0.936030</td>\n",
              "    </tr>\n",
              "    <tr>\n",
              "      <th>25691</th>\n",
              "      <td>10.0</td>\n",
              "      <td>166.0</td>\n",
              "      <td>8.0</td>\n",
              "      <td>18.0</td>\n",
              "      <td>100.0</td>\n",
              "      <td>128.0</td>\n",
              "      <td>60.0</td>\n",
              "      <td>2.766667</td>\n",
              "    </tr>\n",
              "    <tr>\n",
              "      <th>25692</th>\n",
              "      <td>12.0</td>\n",
              "      <td>1629.0</td>\n",
              "      <td>271.0</td>\n",
              "      <td>603.0</td>\n",
              "      <td>1117.0</td>\n",
              "      <td>133.0</td>\n",
              "      <td>296.0</td>\n",
              "      <td>5.503378</td>\n",
              "    </tr>\n",
              "    <tr>\n",
              "      <th>25693</th>\n",
              "      <td>8.0</td>\n",
              "      <td>806.0</td>\n",
              "      <td>199.0</td>\n",
              "      <td>555.0</td>\n",
              "      <td>559.0</td>\n",
              "      <td>130.0</td>\n",
              "      <td>65.0</td>\n",
              "      <td>12.400000</td>\n",
              "    </tr>\n",
              "  </tbody>\n",
              "</table>\n",
              "<p>25694 rows × 8 columns</p>\n",
              "</div>"
            ],
            "text/plain": [
              "       user_screen_name_length  ...  user_average_tweets\n",
              "0                          8.0  ...             1.242156\n",
              "1                          8.0  ...             1.242156\n",
              "2                         12.0  ...             0.123393\n",
              "3                         14.0  ...             0.072325\n",
              "4                          8.0  ...             1.242156\n",
              "...                        ...  ...                  ...\n",
              "25689                     10.0  ...             2.766667\n",
              "25690                     13.0  ...             0.936030\n",
              "25691                     10.0  ...             2.766667\n",
              "25692                     12.0  ...             5.503378\n",
              "25693                      8.0  ...            12.400000\n",
              "\n",
              "[25694 rows x 8 columns]"
            ]
          },
          "metadata": {
            "tags": []
          },
          "execution_count": 51
        }
      ]
    },
    {
      "cell_type": "code",
      "metadata": {
        "colab": {
          "base_uri": "https://localhost:8080/",
          "height": 297
        },
        "id": "JEkE8SsEYVi2",
        "outputId": "ba092195-f9e7-4b86-83d2-24c4845ba015"
      },
      "source": [
        "sns.boxplot(x=final_df['user_no_of_tweets'])"
      ],
      "execution_count": 52,
      "outputs": [
        {
          "output_type": "execute_result",
          "data": {
            "text/plain": [
              "<matplotlib.axes._subplots.AxesSubplot at 0x7fe037493710>"
            ]
          },
          "metadata": {
            "tags": []
          },
          "execution_count": 52
        },
        {
          "output_type": "display_data",
          "data": {
            "image/png": "[encoded data removed]",
            "text/plain": [
              "<Figure size 432x288 with 1 Axes>"
            ]
          },
          "metadata": {
            "tags": [],
            "needs_background": "light"
          }
        }
      ]
    },
    {
      "cell_type": "code",
      "metadata": {
        "colab": {
          "base_uri": "https://localhost:8080/",
          "height": 297
        },
        "id": "wFKeFxqdwjWU",
        "outputId": "35db725d-75c5-4630-b225-2a8cac3af1ca"
      },
      "source": [
        "sns.kdeplot(final_df['user_no_of_tweets'])"
      ],
      "execution_count": 53,
      "outputs": [
        {
          "output_type": "execute_result",
          "data": {
            "text/plain": [
              "<matplotlib.axes._subplots.AxesSubplot at 0x7fe0374041d0>"
            ]
          },
          "metadata": {
            "tags": []
          },
          "execution_count": 53
        },
        {
          "output_type": "display_data",
          "data": {
            "image/png": "[encoded data removed]",
            "text/plain": [
              "<Figure size 432x288 with 1 Axes>"
            ]
          },
          "metadata": {
            "tags": [],
            "needs_background": "light"
          }
        }
      ]
    },
    {
      "cell_type": "code",
      "metadata": {
        "colab": {
          "base_uri": "https://localhost:8080/"
        },
        "id": "XY7vbq78lPze",
        "outputId": "a973a01e-346e-4105-9b74-ea94b1a3addf"
      },
      "source": [
        "#No rows remains the same.\n",
        "final_df.shape"
      ],
      "execution_count": 54,
      "outputs": [
        {
          "output_type": "execute_result",
          "data": {
            "text/plain": [
              "(25694, 8)"
            ]
          },
          "metadata": {
            "tags": []
          },
          "execution_count": 54
        }
      ]
    },
    {
      "cell_type": "code",
      "metadata": {
        "id": "Rhr__SPkmhK_"
      },
      "source": [
        ""
      ],
      "execution_count": 54,
      "outputs": []
    },
    {
      "cell_type": "markdown",
      "metadata": {
        "id": "cvTljoDHmirX"
      },
      "source": [
        "#Trying to check how the data will be changed when the outlier is removed."
      ]
    },
    {
      "cell_type": "code",
      "metadata": {
        "colab": {
          "base_uri": "https://localhost:8080/"
        },
        "id": "p9aGFeCXzihA",
        "outputId": "b63424cd-a798-4bfa-9b06-fbabc7488fab"
      },
      "source": [
        "\n",
        "from scipy import stats                 #finding outlier using z-score\n",
        "import numpy as np                           \n",
        "z = np.abs(stats.zscore(df))\n",
        "print(z)"
      ],
      "execution_count": 55,
      "outputs": [
        {
          "output_type": "stream",
          "text": [
            "[[1.56414077e+00 3.33690416e-02 2.56739652e-01 ... 3.37114215e-01\n",
            "  1.59475488e+00 3.36272760e-01]\n",
            " [1.56414077e+00 3.33690416e-02 2.56739652e-01 ... 3.37114215e-01\n",
            "  1.59475488e+00 3.36272760e-01]\n",
            " [2.89213139e-04 4.19011087e-01 2.84513859e-01 ... 1.05170170e+00\n",
            "  6.27020659e-01 3.62223435e-01]\n",
            " ...\n",
            " [7.81925777e-01 4.08445551e-01 2.79979295e-01 ... 5.26345662e-01\n",
            "  8.61529530e-01 3.00910423e-01]\n",
            " [2.89213139e-04 2.77450819e-01 1.30905489e-01 ... 6.75218054e-01\n",
            "  6.93310401e-01 2.37430027e-01]\n",
            " [1.56414077e+00 3.51140952e-01 1.71716569e-01 ... 5.85894618e-01\n",
            "  8.57965566e-01 7.74569225e-02]]\n"
          ],
          "name": "stdout"
        }
      ]
    },
    {
      "cell_type": "code",
      "metadata": {
        "colab": {
          "base_uri": "https://localhost:8080/"
        },
        "id": "WX6VYZnf2nXB",
        "outputId": "5ebb30e9-9b43-4709-f552-090a6783a174"
      },
      "source": [
        "threshold = 3                          #in most of the cases we take the value as 3\n",
        "print(np.where(z > 3))"
      ],
      "execution_count": 56,
      "outputs": [
        {
          "output_type": "stream",
          "text": [
            "(array([    7,    26,    27, ..., 25684, 25684, 25684]), array([7, 2, 2, ..., 1, 2, 3]))\n"
          ],
          "name": "stdout"
        }
      ]
    },
    {
      "cell_type": "code",
      "metadata": {
        "id": "4dqSjCO22srW"
      },
      "source": [
        "newdata1 = df[(z < 3).all(axis=1)] "
      ],
      "execution_count": 57,
      "outputs": []
    },
    {
      "cell_type": "code",
      "metadata": {
        "colab": {
          "base_uri": "https://localhost:8080/"
        },
        "id": "SVL8YYNO2xwa",
        "outputId": "2f64617c-5059-49ca-9aa8-600a6c9e54e7"
      },
      "source": [
        "#No of rows gets reduced.\n",
        "newdata1.shape"
      ],
      "execution_count": 58,
      "outputs": [
        {
          "output_type": "execute_result",
          "data": {
            "text/plain": [
              "(23414, 8)"
            ]
          },
          "metadata": {
            "tags": []
          },
          "execution_count": 58
        }
      ]
    },
    {
      "cell_type": "code",
      "metadata": {
        "colab": {
          "base_uri": "https://localhost:8080/",
          "height": 297
        },
        "id": "SMMgBFMl226S",
        "outputId": "9d8645b8-64fe-4816-d524-042373b5a920"
      },
      "source": [
        "import seaborn as sns\n",
        "sns.boxplot(x=newdata1['user_no_of_tweets'])"
      ],
      "execution_count": 59,
      "outputs": [
        {
          "output_type": "execute_result",
          "data": {
            "text/plain": [
              "<matplotlib.axes._subplots.AxesSubplot at 0x7fe03746a350>"
            ]
          },
          "metadata": {
            "tags": []
          },
          "execution_count": 59
        },
        {
          "output_type": "display_data",
          "data": {
            "image/png": "[encoded data removed]",
            "text/plain": [
              "<Figure size 432x288 with 1 Axes>"
            ]
          },
          "metadata": {
            "tags": [],
            "needs_background": "light"
          }
        }
      ]
    },
    {
      "cell_type": "code",
      "metadata": {
        "colab": {
          "base_uri": "https://localhost:8080/",
          "height": 297
        },
        "id": "VDHMb09L3KKt",
        "outputId": "c44e7bf0-1748-4288-d549-bd57b283d0db"
      },
      "source": [
        "sns.kdeplot(newdata1['user_no_of_tweets'])"
      ],
      "execution_count": 60,
      "outputs": [
        {
          "output_type": "execute_result",
          "data": {
            "text/plain": [
              "<matplotlib.axes._subplots.AxesSubplot at 0x7fe0374efb50>"
            ]
          },
          "metadata": {
            "tags": []
          },
          "execution_count": 60
        },
        {
          "output_type": "display_data",
          "data": {
            "image/png": "[encoded data removed]",
            "text/plain": [
              "<Figure size 432x288 with 1 Axes>"
            ]
          },
          "metadata": {
            "tags": [],
            "needs_background": "light"
          }
        }
      ]
    },
    {
      "cell_type": "code",
      "metadata": {
        "id": "l8t7wLkU5Atk",
        "colab": {
          "base_uri": "https://localhost:8080/",
          "height": 268
        },
        "outputId": "c226f937-6299-4ab3-fc89-59f410d1daeb"
      },
      "source": [
        "#It shows that no of followers do not depend on the no of tweets.\n",
        "import matplotlib.pyplot as plt\n",
        "plt.scatter(newdata1['user_no_of_tweets'], newdata1['user_no_of_followers'], c =\"blue\")\n",
        "  \n",
        "# To show the plot\n",
        "plt.show()"
      ],
      "execution_count": 70,
      "outputs": [
        {
          "output_type": "display_data",
          "data": {
            "image/png": "[encoded data removed]",
            "text/plain": [
              "<Figure size 432x288 with 1 Axes>"
            ]
          },
          "metadata": {
            "tags": [],
            "needs_background": "light"
          }
        }
      ]
    },
    {
      "cell_type": "code",
      "metadata": {
        "id": "gl3PPL8Qp3Nw"
      },
      "source": [
        ""
      ],
      "execution_count": null,
      "outputs": []
    }
  ]
}